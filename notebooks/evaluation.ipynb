{
 "cells": [
  {
   "cell_type": "code",
   "execution_count": 1,
   "id": "15c4434b-d6bf-41f3-a314-14f98d4994af",
   "metadata": {},
   "outputs": [],
   "source": [
    "import os\n",
    "import functools\n",
    "from warnings import simplefilter"
   ]
  },
  {
   "cell_type": "code",
   "execution_count": 2,
   "id": "7e81f836",
   "metadata": {},
   "outputs": [],
   "source": [
    "simplefilter(action='ignore', category=FutureWarning)\n",
    "simplefilter(action='ignore', category=UserWarning)"
   ]
  },
  {
   "cell_type": "markdown",
   "id": "cfbd8f76",
   "metadata": {},
   "source": [
    "#### Configure path parameters and read data files"
   ]
  },
  {
   "cell_type": "markdown",
   "id": "36b52d99",
   "metadata": {},
   "source": [
    "The `RANDOM_SEED`, `NUM_EPOCHS`, `TRAIN_FRAC`, and `VAL_FRAC` are the same for all models during evaluaiton"
   ]
  },
  {
   "cell_type": "code",
   "execution_count": 3,
   "id": "1eba28e3",
   "metadata": {},
   "outputs": [],
   "source": [
    "MIDS_USER = os.getenv(\"MIDS_USER\", None)  # this can be replaced, with e.g. `m25...`\n",
    "\n",
    "if MIDS_USER is None:\n",
    "  ROOT_DIR = os.path.abspath(os.path.join(os.getcwd(), *['..'] * 1)) \n",
    "else:\n",
    "  ROOT_DIR = f\"/home/mids/{MIDS_USER}/Capstone\"\n",
    "\n",
    "IMAGES_DIR = os.path.join(ROOT_DIR, \"data\", \"datasets\", \"aircraft\", \"images\")\n",
    "if not os.path.exists(IMAGES_DIR):\n",
    "  ROOT_DIR = os.path.join(ROOT_DIR, \"lc-14\")\n",
    "  IMAGES_DIR = os.path.join(ROOT_DIR, \"data\", \"datasets\", \"aircraft\", \"images\")\n",
    "\n",
    "RADOM_SEED = 2020\n",
    "TRAIN_FRAC = 0.8\n",
    "VAL_FRAC = 0.1\n",
    "\n",
    "NUM_EPOCHS = 10   # This can be adjusted as needed "
   ]
  },
  {
   "cell_type": "code",
   "execution_count": 4,
   "id": "a7fbf458",
   "metadata": {},
   "outputs": [],
   "source": [
    "image_dir = IMAGES_DIR\n",
    "labels_fp = os.path.join(ROOT_DIR, \"data\", \"datasets\", \"aircraft\", \"annotations.csv\")"
   ]
  },
  {
   "cell_type": "markdown",
   "id": "3c29963c",
   "metadata": {},
   "source": [
    "#### Load utility functions"
   ]
  },
  {
   "cell_type": "code",
   "execution_count": 5,
   "id": "c30a4905-25a7-4c57-a20f-b93410c179f0",
   "metadata": {},
   "outputs": [],
   "source": [
    "os.chdir(ROOT_DIR)"
   ]
  },
  {
   "cell_type": "code",
   "execution_count": 6,
   "id": "f88d0b71",
   "metadata": {},
   "outputs": [],
   "source": [
    "import torch\n",
    "import torch.nn as nn\n",
    "import matplotlib.pyplot as plt\n",
    "\n",
    "from src.utilities.data.aircraft_dataloader import get_dataloader"
   ]
  },
  {
   "cell_type": "markdown",
   "id": "a2681cc9",
   "metadata": {},
   "source": [
    "#### Load models and transformations"
   ]
  },
  {
   "cell_type": "code",
   "execution_count": 7,
   "id": "31591d4c",
   "metadata": {},
   "outputs": [],
   "source": [
    "from src.models.baseline.cnn import BaselineCNN\n",
    "from src.models.alpha.model import AlphaModel\n",
    "# from src.models.beta.model import BetaModel\n",
    "# from src.models.final.model import FinalModel\n",
    "\n",
    "from src.transformations.baseline.transformations import baseline_transformations\n",
    "from src.transformations.alpha.transformations import alpha_transformations\n",
    "# from src.transformations.beta.transformations import beta_transformations\n",
    "# from src.transformations.final.transformations import final_transformations"
   ]
  },
  {
   "cell_type": "markdown",
   "id": "4c05a8df",
   "metadata": {},
   "source": [
    "#### Define evaluation configuration"
   ]
  },
  {
   "cell_type": "code",
   "execution_count": 8,
   "id": "c579cf9c",
   "metadata": {},
   "outputs": [],
   "source": [
    "# We will use `functools.partial` to create a partial function that we can use to create instances of our models\n",
    "# These will be instantiated in the training loop\n",
    "default_criterion = functools.partial(nn.MSELoss)\n",
    "\n",
    "baseline_model = functools.partial(BaselineCNN)\n",
    "baseline_model_optimizer = functools.partial(\n",
    "  torch.optim.Adam, \n",
    "  lr=0.01,\n",
    ")\n",
    "alpha_model = functools.partial(AlphaModel)\n",
    "alpha_model_optimizer = functools.partial(\n",
    "  torch.optim.Adam, \n",
    "  lr=1e-5,\n",
    ")\n",
    "alpha_model_criterion = functools.partial(nn.SmoothL1Loss, beta=1.0)\n",
    "# beta_model = functools.partial(BetaModel)\n",
    "# beta_model_optimizer = functools.partial(\n",
    "#   torch.optim.Adam, \n",
    "#   lr=0.01,\n",
    "# )\n",
    "# final_model = functools.partial(FinalModel)\n",
    "# final_model_optimizer = functools.partial(\n",
    "#   torch.optim.Adam, \n",
    "#   lr=0.01,\n",
    "# )"
   ]
  },
  {
   "cell_type": "code",
   "execution_count": 9,
   "id": "b72a0622",
   "metadata": {},
   "outputs": [],
   "source": [
    "model_configurations = {\n",
    "  \"Baseline CNN\": {\n",
    "    \"model_callable\": baseline_model,\n",
    "    \"optimizer_callable\": baseline_model_optimizer,\n",
    "    \"criterion_callable\": default_criterion,\n",
    "    \"transformations\": baseline_transformations,\n",
    "    \"dataloader_kwargs\": {\n",
    "      \"batch_size\": 4,\n",
    "      \"shuffle\": True,\n",
    "    },\n",
    "  },\n",
    "  \"Alpha Model\": {\n",
    "    \"model_callable\": alpha_model,\n",
    "    \"optimizer_callable\": alpha_model_optimizer,\n",
    "    \"criterion_callable\": alpha_model_criterion,\n",
    "    \"transformations\": alpha_transformations,\n",
    "    \"dataloader_kwargs\": {\n",
    "      \"batch_size\": 4,\n",
    "      \"shuffle\": True,\n",
    "    },\n",
    "  },\n",
    "  # \"Beta Model\": {\n",
    "  #   \"model_callable\": beta_model,\n",
    "  #   \"optimizer_callable\": beta_model_optimizer,\n",
    "  #   \"criterion_callable\": default_criterion,\n",
    "  #   \"transformations\": beta_transformations,\n",
    "  #   \"dataloader_kwargs\": {\n",
    "  #     \"batch_size\": 4,\n",
    "  #     \"shuffle\": True,\n",
    "  #   },\n",
    "  # },\n",
    "  # \"Final Model\": {\n",
    "  #   \"model_callable\": final_model,\n",
    "  #   \"optimizer_callable\": final_model_optimizer,\n",
    "  #   \"criterion_callable\": default_criterion,\n",
    "  #   \"transformations\": final_transformations,\n",
    "  #   \"dataloader_kwargs\": {\n",
    "  #     \"batch_size\": 4,\n",
    "  #     \"shuffle\": True,\n",
    "  #   },\n",
    "  # },\n",
    "}"
   ]
  },
  {
   "cell_type": "markdown",
   "id": "c05bab02",
   "metadata": {},
   "source": [
    "### Train the models"
   ]
  },
  {
   "cell_type": "code",
   "execution_count": 10,
   "id": "87a8871f",
   "metadata": {},
   "outputs": [
    {
     "name": "stdout",
     "output_type": "stream",
     "text": [
      "Model Baseline CNN epoch [1/10], Loss: 691.1970\n",
      "Model Baseline CNN epoch [2/10], Loss: 479.3700\n",
      "Model Baseline CNN epoch [3/10], Loss: 8064.0518\n",
      "Model Baseline CNN epoch [4/10], Loss: 4455.0610\n",
      "Model Baseline CNN epoch [5/10], Loss: 915.5475\n",
      "Model Baseline CNN epoch [6/10], Loss: 1771.5929\n",
      "Model Baseline CNN epoch [7/10], Loss: 660.0386\n",
      "Model Baseline CNN epoch [8/10], Loss: 1827.2869\n",
      "Model Baseline CNN epoch [9/10], Loss: 1628.1796\n",
      "Model Baseline CNN epoch [10/10], Loss: 2034.5338\n",
      "Model Alpha Model epoch [1/10], Loss: 37.3840\n",
      "Model Alpha Model epoch [2/10], Loss: 12.1134\n",
      "Model Alpha Model epoch [3/10], Loss: 4.2418\n",
      "Model Alpha Model epoch [4/10], Loss: 9.7653\n",
      "Model Alpha Model epoch [5/10], Loss: 5.6483\n",
      "Model Alpha Model epoch [6/10], Loss: 1.4280\n",
      "Model Alpha Model epoch [7/10], Loss: 2.3108\n",
      "Model Alpha Model epoch [8/10], Loss: 0.3226\n",
      "Model Alpha Model epoch [9/10], Loss: 1.8869\n",
      "Model Alpha Model epoch [10/10], Loss: 15.5938\n"
     ]
    }
   ],
   "source": [
    "for model_name, model_config in model_configurations.items():\n",
    "\n",
    "  model_config[\"model\"] = model_config[\"model_callable\"]()\n",
    "  model_config[\"optimizer\"] = model_config[\"optimizer_callable\"](params=model_config[\"model\"].parameters())\n",
    "  model_config[\"criterion\"] = model_config[\"criterion_callable\"]()\n",
    "  model_config[\"model\"] .train()\n",
    "\n",
    "  # Training loop\n",
    "  for epoch in range(NUM_EPOCHS):\n",
    "\n",
    "    dataloader = get_dataloader(\n",
    "      image_dir=image_dir,\n",
    "      labels_fp=labels_fp,\n",
    "      transformations=model_config[\"transformations\"],\n",
    "      mode='train',\n",
    "      train_frac=TRAIN_FRAC,\n",
    "      val_frac=VAL_FRAC,\n",
    "      seed=RADOM_SEED + epoch,\n",
    "      batch_size=model_config[\"dataloader_kwargs\"][\"batch_size\"],\n",
    "      shuffle=model_config[\"dataloader_kwargs\"][\"shuffle\"],\n",
    "      num_workers=1,\n",
    "    )\n",
    "\n",
    "    for i, (images, targets) in enumerate(dataloader):\n",
    "\n",
    "      model_config[\"optimizer\"].zero_grad()\n",
    "      outputs = model_config[\"model\"](images)\n",
    "      loss = model_config[\"criterion\"](outputs.squeeze(), targets)  # Ensure outputs are squeezed to match counts shape\n",
    "      loss.backward()\n",
    "      model_config[\"optimizer\"].step()\n",
    "\n",
    "    print(f\"Model {model_name} epoch [{epoch+1}/{NUM_EPOCHS}], Loss: {loss.item():.4f}\")\n"
   ]
  },
  {
   "cell_type": "markdown",
   "id": "5f4f5f62",
   "metadata": {},
   "source": [
    "### Evaluate the models"
   ]
  },
  {
   "cell_type": "code",
   "execution_count": 11,
   "id": "d8d2e0ad",
   "metadata": {},
   "outputs": [],
   "source": [
    "model_losses = {\n",
    "  model_name: [] for model_name in model_configurations.keys()\n",
    "}\n",
    "model_predictions = {\n",
    "  model_name: [] for model_name in model_configurations.keys()\n",
    "}\n"
   ]
  },
  {
   "cell_type": "code",
   "execution_count": 12,
   "id": "09256240",
   "metadata": {},
   "outputs": [
    {
     "name": "stdout",
     "output_type": "stream",
     "text": [
      "Baseline CNN - val image 1, predicted count: 1.3030, true count: 27.0000\n",
      "Baseline CNN - val image 2, predicted count: 1.3030, true count: 49.0000\n",
      "Baseline CNN - val image 3, predicted count: 1.3030, true count: 31.0000\n",
      "Baseline CNN - val image 4, predicted count: 1.3030, true count: 39.0000\n",
      "Baseline CNN - val image 5, predicted count: 1.3030, true count: 24.0000\n",
      "Baseline CNN - val image 6, predicted count: 1.3030, true count: 19.0000\n",
      "Baseline CNN - val image 7, predicted count: 1.3030, true count: 52.0000\n",
      "Baseline CNN - val image 8, predicted count: 1.3030, true count: 26.0000\n",
      "Baseline CNN - val image 9, predicted count: 1.3030, true count: 15.0000\n",
      "Baseline CNN - val image 10, predicted count: 1.3030, true count: 30.0000\n",
      "Alpha Model - val image 1, predicted count: 28.1235, true count: 52.0000\n",
      "Alpha Model - val image 2, predicted count: 25.0742, true count: 31.0000\n",
      "Alpha Model - val image 3, predicted count: 25.4736, true count: 24.0000\n",
      "Alpha Model - val image 4, predicted count: 27.9475, true count: 15.0000\n",
      "Alpha Model - val image 5, predicted count: 25.6388, true count: 30.0000\n",
      "Alpha Model - val image 6, predicted count: 24.7731, true count: 49.0000\n",
      "Alpha Model - val image 7, predicted count: 34.2855, true count: 39.0000\n",
      "Alpha Model - val image 8, predicted count: 24.6742, true count: 19.0000\n",
      "Alpha Model - val image 9, predicted count: 30.3152, true count: 27.0000\n",
      "Alpha Model - val image 10, predicted count: 30.4838, true count: 26.0000\n"
     ]
    }
   ],
   "source": [
    "for model_name, model_config in model_configurations.items():\n",
    "  \n",
    "  val_dataloader = get_dataloader(\n",
    "    image_dir,\n",
    "    labels_fp,\n",
    "    transformations=model_config[\"transformations\"],\n",
    "    mode='val',\n",
    "    train_frac=TRAIN_FRAC,\n",
    "    val_frac=VAL_FRAC,\n",
    "    seed=RADOM_SEED,\n",
    "    batch_size=1,\n",
    "    shuffle=True,\n",
    "    num_workers=1,\n",
    "  )\n",
    "  true_labels = []\n",
    "\n",
    "  model_config[\"model\"].eval()\n",
    "\n",
    "  for i, (val_images, targets) in enumerate(val_dataloader):\n",
    "    predicted_counts = model_config[\"model\"](val_images)\n",
    "    # We validate based on the mean absolute error\n",
    "    model_losses[model_name].append(torch.abs(predicted_counts - targets).item())\n",
    "    model_predictions[model_name].append(predicted_counts.item())\n",
    "    true_labels.append(targets.item())\n",
    "    print(f\"{model_name} - val image {i+1}, predicted count: {predicted_counts.item():.4f}, true count: {targets.item():.4f}\")\n"
   ]
  },
  {
   "cell_type": "markdown",
   "id": "ca943062",
   "metadata": {},
   "source": [
    "### Compare the models"
   ]
  },
  {
   "cell_type": "code",
   "execution_count": 13,
   "id": "c2e798cf",
   "metadata": {},
   "outputs": [
    {
     "name": "stdout",
     "output_type": "stream",
     "text": [
      "Model Baseline CNN MAE: 29.8970\n",
      "Model Alpha Model MAE: 9.0999\n"
     ]
    }
   ],
   "source": [
    "for model_name, model_losses in model_losses.items():\n",
    "  print(f\"Model {model_name} MAE: {sum(model_losses) / len(model_losses):.4f}\")\n"
   ]
  },
  {
   "cell_type": "code",
   "execution_count": 14,
   "id": "2de9bfee",
   "metadata": {},
   "outputs": [
    {
     "data": {
      "text/plain": [
       "{'Baseline CNN': [1.3029793500900269,\n",
       "  1.3029793500900269,\n",
       "  1.3029793500900269,\n",
       "  1.3029793500900269,\n",
       "  1.3029793500900269,\n",
       "  1.3029793500900269,\n",
       "  1.3029793500900269,\n",
       "  1.3029793500900269,\n",
       "  1.3029793500900269,\n",
       "  1.3029793500900269],\n",
       " 'Alpha Model': [28.12348747253418,\n",
       "  25.074188232421875,\n",
       "  25.47361183166504,\n",
       "  27.94746971130371,\n",
       "  25.638763427734375,\n",
       "  24.773117065429688,\n",
       "  34.28550338745117,\n",
       "  24.674211502075195,\n",
       "  30.315216064453125,\n",
       "  30.483800888061523]}"
      ]
     },
     "execution_count": 14,
     "metadata": {},
     "output_type": "execute_result"
    }
   ],
   "source": [
    "model_predictions"
   ]
  },
  {
   "cell_type": "code",
   "execution_count": 15,
   "id": "8169f7d0",
   "metadata": {},
   "outputs": [
    {
     "data": {
      "image/png": "[encoded data removed]",
      "text/plain": [
       "<Figure size 1000x500 with 1 Axes>"
      ]
     },
     "metadata": {},
     "output_type": "display_data"
    }
   ],
   "source": [
    "plt.figure(figsize=(10, 5))\n",
    "for model_name, model_prediction in model_predictions.items():\n",
    "  plt.scatter(model_prediction, true_labels, label=f\"{model_name} predictions\")\n",
    "plt.xlabel(\"Image index\")\n",
    "plt.ylabel(\"Count\")\n",
    "plt.legend()\n",
    "plt.show()\n"
   ]
  },
  {
   "cell_type": "code",
   "execution_count": null,
   "id": "56dc65b6",
   "metadata": {},
   "outputs": [],
   "source": []
  }
 ],
 "metadata": {
  "kernelspec": {
   "display_name": ".venv",
   "language": "python",
   "name": "python3"
  },
  "language_info": {
   "codemirror_mode": {
    "name": "ipython",
    "version": 3
   },
   "file_extension": ".py",
   "mimetype": "text/x-python",
   "name": "python",
   "nbconvert_exporter": "python",
   "pygments_lexer": "ipython3",
   "version": "3.10.12"
  }
 },
 "nbformat": 4,
 "nbformat_minor": 5
}
