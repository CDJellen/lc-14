{
 "cells": [
  {
   "cell_type": "code",
   "execution_count": 1,
   "id": "15c4434b-d6bf-41f3-a314-14f98d4994af",
   "metadata": {},
   "outputs": [],
   "source": [
    "import os\n",
    "import functools\n",
    "from warnings import simplefilter"
   ]
  },
  {
   "cell_type": "code",
   "execution_count": 2,
   "id": "7e81f836",
   "metadata": {},
   "outputs": [],
   "source": [
    "simplefilter(action='ignore', category=FutureWarning)\n",
    "simplefilter(action='ignore', category=UserWarning)"
   ]
  },
  {
   "cell_type": "markdown",
   "id": "cfbd8f76",
   "metadata": {},
   "source": [
    "#### Configure path parameters and read data files"
   ]
  },
  {
   "cell_type": "markdown",
   "id": "36b52d99",
   "metadata": {},
   "source": [
    "The `RANDOM_SEED`, `NUM_EPOCHS`, `TRAIN_FRAC`, and `VAL_FRAC` are the same for all models during evaluaiton"
   ]
  },
  {
   "cell_type": "code",
   "execution_count": 3,
   "id": "1eba28e3",
   "metadata": {},
   "outputs": [],
   "source": [
    "MIDS_USER = os.getenv(\"MIDS_USER\", None)  # this can be replaced, with e.g. `m25...`\n",
    "\n",
    "if MIDS_USER is None:\n",
    "  ROOT_DIR = os.path.abspath(os.path.join(os.getcwd(), *['..'] * 1)) \n",
    "else:\n",
    "  ROOT_DIR = f\"/home/mids/{MIDS_USER}/Capstone\"\n",
    "\n",
    "IMAGES_DIR = os.path.join(ROOT_DIR, \"data\", \"datasets\", \"aircraft\", \"images\")\n",
    "if not os.path.exists(IMAGES_DIR):\n",
    "  ROOT_DIR = os.path.join(ROOT_DIR, \"lc-14\")\n",
    "  IMAGES_DIR = os.path.join(ROOT_DIR, \"data\", \"datasets\", \"aircraft\", \"images\")\n",
    "\n",
    "RADOM_SEED = 2020\n",
    "TRAIN_FRAC = 0.8\n",
    "VAL_FRAC = 0.1\n",
    "\n",
    "NUM_EPOCHS = 10   # This can be adjusted as needed "
   ]
  },
  {
   "cell_type": "code",
   "execution_count": 4,
   "id": "a7fbf458",
   "metadata": {},
   "outputs": [],
   "source": [
    "image_dir = IMAGES_DIR\n",
    "labels_fp = os.path.join(ROOT_DIR, \"data\", \"datasets\", \"aircraft\", \"annotations.csv\")"
   ]
  },
  {
   "cell_type": "markdown",
   "id": "3c29963c",
   "metadata": {},
   "source": [
    "#### Load utility functions"
   ]
  },
  {
   "cell_type": "code",
   "execution_count": 5,
   "id": "c30a4905-25a7-4c57-a20f-b93410c179f0",
   "metadata": {},
   "outputs": [],
   "source": [
    "os.chdir(ROOT_DIR)"
   ]
  },
  {
   "cell_type": "code",
   "execution_count": 6,
   "id": "f88d0b71",
   "metadata": {},
   "outputs": [],
   "source": [
    "import torch\n",
    "import torch.nn as nn\n",
    "import matplotlib.pyplot as plt\n",
    "\n",
    "from src.utilities.data.aircraft_dataloader import get_dataloader"
   ]
  },
  {
   "cell_type": "markdown",
   "id": "a2681cc9",
   "metadata": {},
   "source": [
    "#### Load models and transformations"
   ]
  },
  {
   "cell_type": "code",
   "execution_count": 7,
   "id": "31591d4c",
   "metadata": {},
   "outputs": [],
   "source": [
    "from src.models.baseline.cnn import BaselineCNN\n",
    "from src.models.alpha.model import AlphaModel\n",
    "# from src.models.beta.model import BetaModel\n",
    "# from src.models.final.model import FinalModel\n",
    "\n",
    "from src.transformations.baseline.transformations import baseline_transformations\n",
    "from src.transformations.alpha.transformations import alpha_transformations\n",
    "# from src.transformations.beta.transformations import beta_transformations\n",
    "# from src.transformations.final.transformations import final_transformations"
   ]
  },
  {
   "cell_type": "markdown",
   "id": "4c05a8df",
   "metadata": {},
   "source": [
    "#### Define evaluation configuration"
   ]
  },
  {
   "cell_type": "code",
   "execution_count": 8,
   "id": "c579cf9c",
   "metadata": {},
   "outputs": [],
   "source": [
    "# We will use `functools.partial` to create a partial function that we can use to create instances of our models\n",
    "# These will be instantiated in the training loop\n",
    "default_criterion = functools.partial(nn.MSELoss)\n",
    "\n",
    "baseline_model = functools.partial(BaselineCNN)\n",
    "baseline_model_optimizer = functools.partial(\n",
    "  torch.optim.Adam, \n",
    "  lr=0.01,\n",
    ")\n",
    "alpha_model = functools.partial(AlphaModel)\n",
    "alpha_model_optimizer = functools.partial(\n",
    "  torch.optim.Adam, \n",
    "  lr=1e-5,\n",
    ")\n",
    "alpha_model_criterion = functools.partial(nn.SmoothL1Loss, beta=1.0)\n",
    "# beta_model = functools.partial(BetaModel)\n",
    "# beta_model_optimizer = functools.partial(\n",
    "#   torch.optim.Adam, \n",
    "#   lr=0.01,\n",
    "# )\n",
    "# final_model = functools.partial(FinalModel)\n",
    "# final_model_optimizer = functools.partial(\n",
    "#   torch.optim.Adam, \n",
    "#   lr=0.01,\n",
    "# )"
   ]
  },
  {
   "cell_type": "code",
   "execution_count": 9,
   "id": "b72a0622",
   "metadata": {},
   "outputs": [],
   "source": [
    "model_configurations = {\n",
    "  \"Baseline CNN\": {\n",
    "    \"model_callable\": baseline_model,\n",
    "    \"optimizer_callable\": baseline_model_optimizer,\n",
    "    \"criterion_callable\": default_criterion,\n",
    "    \"transformations\": baseline_transformations,\n",
    "    \"dataloader_kwargs\": {\n",
    "      \"batch_size\": 4,\n",
    "      \"shuffle\": True,\n",
    "    },\n",
    "  },\n",
    "  \"Alpha Model\": {\n",
    "    \"model_callable\": alpha_model,\n",
    "    \"optimizer_callable\": alpha_model_optimizer,\n",
    "    \"criterion_callable\": alpha_model_criterion,\n",
    "    \"transformations\": alpha_transformations,\n",
    "    \"dataloader_kwargs\": {\n",
    "      \"batch_size\": 4,\n",
    "      \"shuffle\": True,\n",
    "    },\n",
    "  },\n",
    "  # \"Beta Model\": {\n",
    "  #   \"model_callable\": beta_model,\n",
    "  #   \"optimizer_callable\": beta_model_optimizer,\n",
    "  #   \"criterion_callable\": default_criterion,\n",
    "  #   \"transformations\": beta_transformations,\n",
    "  #   \"dataloader_kwargs\": {\n",
    "  #     \"batch_size\": 4,\n",
    "  #     \"shuffle\": True,\n",
    "  #   },\n",
    "  # },\n",
    "  # \"Final Model\": {\n",
    "  #   \"model_callable\": final_model,\n",
    "  #   \"optimizer_callable\": final_model_optimizer,\n",
    "  #   \"criterion_callable\": default_criterion,\n",
    "  #   \"transformations\": final_transformations,\n",
    "  #   \"dataloader_kwargs\": {\n",
    "  #     \"batch_size\": 4,\n",
    "  #     \"shuffle\": True,\n",
    "  #   },\n",
    "  # },\n",
    "}"
   ]
  },
  {
   "cell_type": "markdown",
   "id": "c05bab02",
   "metadata": {},
   "source": [
    "### Train the models"
   ]
  },
  {
   "cell_type": "code",
   "execution_count": 10,
   "id": "87a8871f",
   "metadata": {},
   "outputs": [
    {
     "name": "stdout",
     "output_type": "stream",
     "text": [
      "Model Baseline CNN epoch [1/10], Loss: 954.1287\n",
      "Model Baseline CNN epoch [2/10], Loss: 547.9930\n",
      "Model Baseline CNN epoch [3/10], Loss: 2333.2686\n",
      "Model Baseline CNN epoch [4/10], Loss: 381.1278\n",
      "Model Baseline CNN epoch [5/10], Loss: 189.6175\n",
      "Model Baseline CNN epoch [6/10], Loss: 395.2578\n",
      "Model Baseline CNN epoch [7/10], Loss: 95.9918\n",
      "Model Baseline CNN epoch [8/10], Loss: 177.0329\n",
      "Model Baseline CNN epoch [9/10], Loss: 0.9389\n",
      "Model Baseline CNN epoch [10/10], Loss: 39.0845\n",
      "Model Alpha Model epoch [1/10], Loss: 27.1912\n",
      "Model Alpha Model epoch [2/10], Loss: 12.7628\n",
      "Model Alpha Model epoch [3/10], Loss: 0.4316\n",
      "Model Alpha Model epoch [4/10], Loss: 2.6640\n",
      "Model Alpha Model epoch [5/10], Loss: 15.6236\n",
      "Model Alpha Model epoch [6/10], Loss: 2.4050\n",
      "Model Alpha Model epoch [7/10], Loss: 0.7829\n",
      "Model Alpha Model epoch [8/10], Loss: 11.8301\n",
      "Model Alpha Model epoch [9/10], Loss: 2.2555\n",
      "Model Alpha Model epoch [10/10], Loss: 5.7584\n"
     ]
    }
   ],
   "source": [
    "for model_name, model_config in model_configurations.items():\n",
    "\n",
    "  model_config[\"model\"] = model_config[\"model_callable\"]()\n",
    "  model_config[\"optimizer\"] = model_config[\"optimizer_callable\"](params=model_config[\"model\"].parameters())\n",
    "  model_config[\"criterion\"] = model_config[\"criterion_callable\"]()\n",
    "  model_config[\"model\"] .train()\n",
    "\n",
    "  # Training loop\n",
    "  for epoch in range(NUM_EPOCHS):\n",
    "\n",
    "    dataloader = get_dataloader(\n",
    "      image_dir=image_dir,\n",
    "      labels_fp=labels_fp,\n",
    "      transformations=model_config[\"transformations\"],\n",
    "      mode='train',\n",
    "      train_frac=TRAIN_FRAC,\n",
    "      val_frac=VAL_FRAC,\n",
    "      seed=RADOM_SEED + epoch,\n",
    "      batch_size=model_config[\"dataloader_kwargs\"][\"batch_size\"],\n",
    "      shuffle=model_config[\"dataloader_kwargs\"][\"shuffle\"],\n",
    "      num_workers=1,\n",
    "    )\n",
    "\n",
    "    for i, (images, targets) in enumerate(dataloader):\n",
    "\n",
    "      model_config[\"optimizer\"].zero_grad()\n",
    "      outputs = model_config[\"model\"](images)\n",
    "      loss = model_config[\"criterion\"](outputs.squeeze(), targets)  # Ensure outputs are squeezed to match counts shape\n",
    "      loss.backward()\n",
    "      model_config[\"optimizer\"].step()\n",
    "\n",
    "    print(f\"Model {model_name} epoch [{epoch+1}/{NUM_EPOCHS}], Loss: {loss.item():.4f}\")\n"
   ]
  },
  {
   "cell_type": "markdown",
   "id": "5f4f5f62",
   "metadata": {},
   "source": [
    "### Evaluate the models"
   ]
  },
  {
   "cell_type": "code",
   "execution_count": 11,
   "id": "d8d2e0ad",
   "metadata": {},
   "outputs": [],
   "source": [
    "model_losses = {\n",
    "  model_name: [] for model_name in model_configurations.keys()\n",
    "}\n",
    "model_predictions = {\n",
    "  model_name: [] for model_name in model_configurations.keys()\n",
    "}\n"
   ]
  },
  {
   "cell_type": "code",
   "execution_count": 12,
   "id": "09256240",
   "metadata": {},
   "outputs": [
    {
     "name": "stdout",
     "output_type": "stream",
     "text": [
      "Baseline CNN - val image 1, predicted count: 29.8421, true count: 49.0000\n",
      "Baseline CNN - val image 2, predicted count: 29.8421, true count: 19.0000\n",
      "Baseline CNN - val image 3, predicted count: 29.8421, true count: 52.0000\n",
      "Baseline CNN - val image 4, predicted count: 29.8421, true count: 27.0000\n",
      "Baseline CNN - val image 5, predicted count: 29.8421, true count: 26.0000\n",
      "Baseline CNN - val image 6, predicted count: 29.8421, true count: 24.0000\n",
      "Baseline CNN - val image 7, predicted count: 29.8421, true count: 15.0000\n",
      "Baseline CNN - val image 8, predicted count: 29.8421, true count: 39.0000\n",
      "Baseline CNN - val image 9, predicted count: 29.8421, true count: 31.0000\n",
      "Baseline CNN - val image 10, predicted count: 29.8421, true count: 30.0000\n",
      "Alpha Model - val image 1, predicted count: 26.4065, true count: 15.0000\n",
      "Alpha Model - val image 2, predicted count: 28.8873, true count: 26.0000\n",
      "Alpha Model - val image 3, predicted count: 24.7642, true count: 19.0000\n",
      "Alpha Model - val image 4, predicted count: 27.3651, true count: 52.0000\n",
      "Alpha Model - val image 5, predicted count: 25.6338, true count: 24.0000\n",
      "Alpha Model - val image 6, predicted count: 30.1413, true count: 27.0000\n",
      "Alpha Model - val image 7, predicted count: 26.0246, true count: 31.0000\n",
      "Alpha Model - val image 8, predicted count: 26.0356, true count: 30.0000\n",
      "Alpha Model - val image 9, predicted count: 30.9899, true count: 39.0000\n",
      "Alpha Model - val image 10, predicted count: 25.2636, true count: 49.0000\n"
     ]
    }
   ],
   "source": [
    "for model_name, model_config in model_configurations.items():\n",
    "  \n",
    "  val_dataloader = get_dataloader(\n",
    "    image_dir,\n",
    "    labels_fp,\n",
    "    transformations=model_config[\"transformations\"],\n",
    "    mode='val',\n",
    "    train_frac=TRAIN_FRAC,\n",
    "    val_frac=VAL_FRAC,\n",
    "    seed=RADOM_SEED,\n",
    "    batch_size=1,\n",
    "    shuffle=True,\n",
    "    num_workers=1,\n",
    "  )\n",
    "  true_labels = []\n",
    "\n",
    "  model_config[\"model\"].eval()\n",
    "\n",
    "  for i, (val_images, targets) in enumerate(val_dataloader):\n",
    "    predicted_counts = model_config[\"model\"](val_images)\n",
    "    # We validate based on the mean absolute error\n",
    "    model_losses[model_name].append(torch.abs(predicted_counts - targets).item())\n",
    "    model_predictions[model_name].append(predicted_counts.item())\n",
    "    true_labels.append(targets.item())\n",
    "    print(f\"{model_name} - val image {i+1}, predicted count: {predicted_counts.item():.4f}, true count: {targets.item():.4f}\")\n"
   ]
  },
  {
   "cell_type": "markdown",
   "id": "ca943062",
   "metadata": {},
   "source": [
    "### Compare the models"
   ]
  },
  {
   "cell_type": "code",
   "execution_count": 13,
   "id": "c2e798cf",
   "metadata": {},
   "outputs": [
    {
     "name": "stdout",
     "output_type": "stream",
     "text": [
      "Model Baseline CNN MAE: 9.0000\n",
      "Model Alpha Model MAE: 9.0154\n"
     ]
    }
   ],
   "source": [
    "for model_name, model_losses in model_losses.items():\n",
    "  print(f\"Model {model_name} MAE: {sum(model_losses) / len(model_losses):.4f}\")\n"
   ]
  },
  {
   "cell_type": "code",
   "execution_count": 14,
   "id": "2de9bfee",
   "metadata": {},
   "outputs": [
    {
     "data": {
      "text/plain": [
       "{'Baseline CNN': [29.842121124267578,\n",
       "  29.842121124267578,\n",
       "  29.842121124267578,\n",
       "  29.842121124267578,\n",
       "  29.842121124267578,\n",
       "  29.842121124267578,\n",
       "  29.842121124267578,\n",
       "  29.842121124267578,\n",
       "  29.842121124267578,\n",
       "  29.842121124267578],\n",
       " 'Alpha Model': [26.40654945373535,\n",
       "  28.887264251708984,\n",
       "  24.764240264892578,\n",
       "  27.365055084228516,\n",
       "  25.633752822875977,\n",
       "  30.141298294067383,\n",
       "  26.02460479736328,\n",
       "  26.03555679321289,\n",
       "  30.98990249633789,\n",
       "  25.263553619384766]}"
      ]
     },
     "execution_count": 14,
     "metadata": {},
     "output_type": "execute_result"
    }
   ],
   "source": [
    "model_predictions"
   ]
  },
  {
   "cell_type": "code",
   "execution_count": 15,
   "id": "8169f7d0",
   "metadata": {},
   "outputs": [
    {
     "data": {
      "image/png": "[encoded data removed]",
      "text/plain": [
       "<Figure size 800x800 with 1 Axes>"
      ]
     },
     "metadata": {},
     "output_type": "display_data"
    }
   ],
   "source": [
    "plt.figure(figsize=(8, 8))\n",
    "for model_name, model_prediction in model_predictions.items():\n",
    "  plt.scatter(model_prediction, true_labels, label=f\"{model_name} predictions\")\n",
    "\n",
    "# Set the x and y axis labels and title\n",
    "plt.xlim(0, 50)\n",
    "plt.ylim(0, 50)\n",
    "plt.axline((0, 0), slope=1, color='red', linestyle='--', label='y=x')\n",
    "plt.grid()\n",
    "plt.xlabel(\"Predicted Counts\")\n",
    "plt.ylabel(\"True Counts\")\n",
    "plt.title(\"Model Predictions vs True Counts\")\n",
    "plt.legend()\n",
    "plt.show()\n"
   ]
  },
  {
   "cell_type": "markdown",
   "id": "a92a2dab",
   "metadata": {},
   "source": [
    "### Use the models operationally against new data"
   ]
  },
  {
   "cell_type": "markdown",
   "id": "f39c5941",
   "metadata": {},
   "source": [
    "This section uses new data (of a similar form, aerial images of aircraft and airports) to assess the model performance in a real-world scenario."
   ]
  },
  {
   "cell_type": "code",
   "execution_count": 16,
   "id": "05373ce4",
   "metadata": {},
   "outputs": [],
   "source": [
    "boneyard_aircraft_dir = \"/home/cjellen/projects/github/lc-14/data/processed/boneyard/boneyard-aircraft\"\n",
    "boneyard_no_aircraft_dir = \"/home/cjellen/projects/github/lc-14/data/processed/boneyard/boneyard-no-aircraft\""
   ]
  },
  {
   "cell_type": "code",
   "execution_count": 17,
   "id": "a689217f",
   "metadata": {},
   "outputs": [],
   "source": [
    "model_boneyard_predictions = {\n",
    "  model_name: [] for model_name in model_configurations.keys()\n",
    "}\n",
    "model_boneyard_no_aircraft_predictions = {\n",
    "  model_name: [] for model_name in model_configurations.keys()\n",
    "}"
   ]
  },
  {
   "cell_type": "code",
   "execution_count": 18,
   "id": "56dc65b6",
   "metadata": {},
   "outputs": [
    {
     "name": "stdout",
     "output_type": "stream",
     "text": [
      "Baseline CNN - val image which includes aircraft 1, predicted count: 29.8421\n",
      "Baseline CNN - val image which includes aircraft 2, predicted count: 29.8421\n",
      "Baseline CNN - val image which includes aircraft 3, predicted count: 29.8421\n",
      "Baseline CNN - val image which includes aircraft 4, predicted count: 29.8421\n",
      "Baseline CNN - val image which includes aircraft 5, predicted count: 29.8421\n",
      "Baseline CNN - val image which includes aircraft 6, predicted count: 29.8421\n",
      "Baseline CNN - val image which includes aircraft 7, predicted count: 29.8421\n",
      "Baseline CNN - val image which includes aircraft 8, predicted count: 29.8421\n",
      "Baseline CNN - val image which includes aircraft 9, predicted count: 29.8421\n",
      "Baseline CNN - val image which includes aircraft 10, predicted count: 29.8421\n",
      "Baseline CNN - val image which includes aircraft 11, predicted count: 29.8421\n",
      "Baseline CNN - val image which includes aircraft 12, predicted count: 29.8421\n",
      "Baseline CNN - val image which includes aircraft 13, predicted count: 29.8421\n",
      "Baseline CNN - val image which includes aircraft 14, predicted count: 29.8421\n",
      "Baseline CNN - val image which includes aircraft 15, predicted count: 29.8421\n",
      "Baseline CNN - val image which includes aircraft 16, predicted count: 29.8421\n",
      "Baseline CNN - val image which includes aircraft 17, predicted count: 29.8421\n",
      "Baseline CNN - val image which includes aircraft 18, predicted count: 29.8421\n",
      "Baseline CNN - val image which includes aircraft 19, predicted count: 29.8421\n",
      "Baseline CNN - val image which includes aircraft 20, predicted count: 29.8421\n",
      "Baseline CNN - val image which includes aircraft 21, predicted count: 29.8421\n",
      "Baseline CNN - val image which includes aircraft 22, predicted count: 29.8421\n",
      "Baseline CNN - val image which includes aircraft 23, predicted count: 29.8421\n",
      "Baseline CNN - val image which includes aircraft 24, predicted count: 29.8421\n",
      "Baseline CNN - val image which includes aircraft 25, predicted count: 29.8421\n",
      "Baseline CNN - val image which includes aircraft 26, predicted count: 29.8421\n",
      "Baseline CNN - val image which includes aircraft 27, predicted count: 29.8421\n",
      "Baseline CNN - val image which includes aircraft 28, predicted count: 29.8421\n",
      "Baseline CNN - val image which does not include aircraft 1, predicted count: 29.8421\n",
      "Baseline CNN - val image which does not include aircraft 2, predicted count: 29.8421\n",
      "Baseline CNN - val image which does not include aircraft 3, predicted count: 29.8421\n",
      "Baseline CNN - val image which does not include aircraft 4, predicted count: 29.8421\n",
      "Baseline CNN - val image which does not include aircraft 5, predicted count: 29.8421\n",
      "Baseline CNN - val image which does not include aircraft 6, predicted count: 29.8421\n",
      "Baseline CNN - val image which does not include aircraft 7, predicted count: 29.8421\n",
      "Baseline CNN - val image which does not include aircraft 8, predicted count: 29.8421\n",
      "Baseline CNN - val image which does not include aircraft 9, predicted count: 29.8421\n",
      "Baseline CNN - val image which does not include aircraft 10, predicted count: 29.8421\n",
      "Baseline CNN - val image which does not include aircraft 11, predicted count: 29.8421\n",
      "Baseline CNN - val image which does not include aircraft 12, predicted count: 29.8421\n",
      "Baseline CNN - val image which does not include aircraft 13, predicted count: 29.8421\n",
      "Baseline CNN - val image which does not include aircraft 14, predicted count: 29.8421\n",
      "Baseline CNN - val image which does not include aircraft 15, predicted count: 29.8421\n",
      "Baseline CNN - val image which does not include aircraft 16, predicted count: 29.8421\n",
      "Baseline CNN - val image which does not include aircraft 17, predicted count: 29.8421\n",
      "Baseline CNN - val image which does not include aircraft 18, predicted count: 29.8421\n",
      "Baseline CNN - val image which does not include aircraft 19, predicted count: 29.8421\n",
      "Baseline CNN - val image which does not include aircraft 20, predicted count: 29.8421\n",
      "Baseline CNN - val image which does not include aircraft 21, predicted count: 29.8421\n",
      "Baseline CNN - val image which does not include aircraft 22, predicted count: 29.8421\n",
      "Baseline CNN - val image which does not include aircraft 23, predicted count: 29.8421\n",
      "Baseline CNN - val image which does not include aircraft 24, predicted count: 29.8421\n",
      "Baseline CNN - val image which does not include aircraft 25, predicted count: 29.8421\n",
      "Baseline CNN - val image which does not include aircraft 26, predicted count: 29.8421\n",
      "Baseline CNN - val image which does not include aircraft 27, predicted count: 29.8421\n",
      "Baseline CNN - val image which does not include aircraft 28, predicted count: 29.8421\n",
      "Baseline CNN - val image which does not include aircraft 29, predicted count: 29.8421\n",
      "Baseline CNN - val image which does not include aircraft 30, predicted count: 29.8421\n",
      "Baseline CNN - val image which does not include aircraft 31, predicted count: 29.8421\n",
      "Baseline CNN - val image which does not include aircraft 32, predicted count: 29.8421\n",
      "Baseline CNN - val image which does not include aircraft 33, predicted count: 29.8421\n",
      "Baseline CNN - val image which does not include aircraft 34, predicted count: 29.8421\n",
      "Baseline CNN - val image which does not include aircraft 35, predicted count: 29.8421\n",
      "Baseline CNN - val image which does not include aircraft 36, predicted count: 29.8421\n",
      "Baseline CNN - val image which does not include aircraft 37, predicted count: 29.8421\n",
      "Baseline CNN - val image which does not include aircraft 38, predicted count: 29.8421\n",
      "Baseline CNN - val image which does not include aircraft 39, predicted count: 29.8421\n",
      "Baseline CNN - val image which does not include aircraft 40, predicted count: 29.8421\n",
      "Baseline CNN - val image which does not include aircraft 41, predicted count: 29.8421\n",
      "Baseline CNN - val image which does not include aircraft 42, predicted count: 29.8421\n",
      "Baseline CNN - val image which does not include aircraft 43, predicted count: 29.8421\n",
      "Baseline CNN - val image which does not include aircraft 44, predicted count: 29.8421\n",
      "Baseline CNN - val image which does not include aircraft 45, predicted count: 29.8421\n",
      "Baseline CNN - val image which does not include aircraft 46, predicted count: 29.8421\n",
      "Baseline CNN - val image which does not include aircraft 47, predicted count: 29.8421\n",
      "Baseline CNN - val image which does not include aircraft 48, predicted count: 29.8421\n",
      "Baseline CNN - val image which does not include aircraft 49, predicted count: 29.8421\n",
      "Baseline CNN - val image which does not include aircraft 50, predicted count: 29.8421\n",
      "Baseline CNN - val image which does not include aircraft 51, predicted count: 29.8421\n",
      "Baseline CNN - val image which does not include aircraft 52, predicted count: 29.8421\n",
      "Baseline CNN - val image which does not include aircraft 53, predicted count: 29.8421\n",
      "Baseline CNN - val image which does not include aircraft 54, predicted count: 29.8421\n",
      "Baseline CNN - val image which does not include aircraft 55, predicted count: 29.8421\n",
      "Baseline CNN - val image which does not include aircraft 56, predicted count: 29.8421\n",
      "Baseline CNN - val image which does not include aircraft 57, predicted count: 29.8421\n",
      "Baseline CNN - val image which does not include aircraft 58, predicted count: 29.8421\n",
      "Baseline CNN - val image which does not include aircraft 59, predicted count: 29.8421\n",
      "Baseline CNN - val image which does not include aircraft 60, predicted count: 29.8421\n",
      "Baseline CNN - val image which does not include aircraft 61, predicted count: 29.8421\n",
      "Baseline CNN - val image which does not include aircraft 62, predicted count: 29.8421\n",
      "Alpha Model - val image which includes aircraft 1, predicted count: 34.1494\n",
      "Alpha Model - val image which includes aircraft 2, predicted count: 37.7522\n",
      "Alpha Model - val image which includes aircraft 3, predicted count: 31.4441\n",
      "Alpha Model - val image which includes aircraft 4, predicted count: 38.0775\n",
      "Alpha Model - val image which includes aircraft 5, predicted count: 41.7015\n",
      "Alpha Model - val image which includes aircraft 6, predicted count: 36.1615\n",
      "Alpha Model - val image which includes aircraft 7, predicted count: 39.8259\n",
      "Alpha Model - val image which includes aircraft 8, predicted count: 43.7282\n",
      "Alpha Model - val image which includes aircraft 9, predicted count: 34.6120\n",
      "Alpha Model - val image which includes aircraft 10, predicted count: 32.8058\n",
      "Alpha Model - val image which includes aircraft 11, predicted count: 32.6667\n",
      "Alpha Model - val image which includes aircraft 12, predicted count: 39.3348\n",
      "Alpha Model - val image which includes aircraft 13, predicted count: 41.4965\n",
      "Alpha Model - val image which includes aircraft 14, predicted count: 33.0368\n",
      "Alpha Model - val image which includes aircraft 15, predicted count: 38.8644\n",
      "Alpha Model - val image which includes aircraft 16, predicted count: 36.6686\n",
      "Alpha Model - val image which includes aircraft 17, predicted count: 31.4981\n",
      "Alpha Model - val image which includes aircraft 18, predicted count: 29.1485\n",
      "Alpha Model - val image which includes aircraft 19, predicted count: 43.7681\n",
      "Alpha Model - val image which includes aircraft 20, predicted count: 33.3909\n",
      "Alpha Model - val image which includes aircraft 21, predicted count: 38.9335\n",
      "Alpha Model - val image which includes aircraft 22, predicted count: 37.2342\n",
      "Alpha Model - val image which includes aircraft 23, predicted count: 41.0693\n",
      "Alpha Model - val image which includes aircraft 24, predicted count: 29.3650\n",
      "Alpha Model - val image which includes aircraft 25, predicted count: 32.4876\n",
      "Alpha Model - val image which includes aircraft 26, predicted count: 35.6918\n",
      "Alpha Model - val image which includes aircraft 27, predicted count: 33.5210\n",
      "Alpha Model - val image which includes aircraft 28, predicted count: 31.3325\n",
      "Alpha Model - val image which does not include aircraft 1, predicted count: 35.5321\n",
      "Alpha Model - val image which does not include aircraft 2, predicted count: 37.2070\n",
      "Alpha Model - val image which does not include aircraft 3, predicted count: 43.8721\n",
      "Alpha Model - val image which does not include aircraft 4, predicted count: 32.5507\n",
      "Alpha Model - val image which does not include aircraft 5, predicted count: 43.4510\n",
      "Alpha Model - val image which does not include aircraft 6, predicted count: 34.9429\n",
      "Alpha Model - val image which does not include aircraft 7, predicted count: 34.8064\n",
      "Alpha Model - val image which does not include aircraft 8, predicted count: 34.3618\n",
      "Alpha Model - val image which does not include aircraft 9, predicted count: 35.0870\n",
      "Alpha Model - val image which does not include aircraft 10, predicted count: 36.1465\n",
      "Alpha Model - val image which does not include aircraft 11, predicted count: 48.8297\n",
      "Alpha Model - val image which does not include aircraft 12, predicted count: 36.9990\n",
      "Alpha Model - val image which does not include aircraft 13, predicted count: 39.9264\n",
      "Alpha Model - val image which does not include aircraft 14, predicted count: 40.9742\n",
      "Alpha Model - val image which does not include aircraft 15, predicted count: 33.6960\n",
      "Alpha Model - val image which does not include aircraft 16, predicted count: 42.9021\n",
      "Alpha Model - val image which does not include aircraft 17, predicted count: 49.5056\n",
      "Alpha Model - val image which does not include aircraft 18, predicted count: 32.5741\n",
      "Alpha Model - val image which does not include aircraft 19, predicted count: 34.6418\n",
      "Alpha Model - val image which does not include aircraft 20, predicted count: 34.6638\n",
      "Alpha Model - val image which does not include aircraft 21, predicted count: 48.2084\n",
      "Alpha Model - val image which does not include aircraft 22, predicted count: 38.2215\n",
      "Alpha Model - val image which does not include aircraft 23, predicted count: 38.5534\n",
      "Alpha Model - val image which does not include aircraft 24, predicted count: 48.1256\n",
      "Alpha Model - val image which does not include aircraft 25, predicted count: 34.1571\n",
      "Alpha Model - val image which does not include aircraft 26, predicted count: 42.8609\n",
      "Alpha Model - val image which does not include aircraft 27, predicted count: 30.0140\n",
      "Alpha Model - val image which does not include aircraft 28, predicted count: 42.2231\n",
      "Alpha Model - val image which does not include aircraft 29, predicted count: 41.9381\n",
      "Alpha Model - val image which does not include aircraft 30, predicted count: 26.9872\n",
      "Alpha Model - val image which does not include aircraft 31, predicted count: 42.9358\n",
      "Alpha Model - val image which does not include aircraft 32, predicted count: 27.9264\n",
      "Alpha Model - val image which does not include aircraft 33, predicted count: 25.1470\n",
      "Alpha Model - val image which does not include aircraft 34, predicted count: 32.7222\n",
      "Alpha Model - val image which does not include aircraft 35, predicted count: 34.1128\n",
      "Alpha Model - val image which does not include aircraft 36, predicted count: 33.8484\n",
      "Alpha Model - val image which does not include aircraft 37, predicted count: 32.4753\n",
      "Alpha Model - val image which does not include aircraft 38, predicted count: 50.9199\n",
      "Alpha Model - val image which does not include aircraft 39, predicted count: 32.5069\n",
      "Alpha Model - val image which does not include aircraft 40, predicted count: 41.3294\n",
      "Alpha Model - val image which does not include aircraft 41, predicted count: 34.2142\n",
      "Alpha Model - val image which does not include aircraft 42, predicted count: 42.2052\n",
      "Alpha Model - val image which does not include aircraft 43, predicted count: 43.1309\n",
      "Alpha Model - val image which does not include aircraft 44, predicted count: 32.4100\n",
      "Alpha Model - val image which does not include aircraft 45, predicted count: 26.3143\n",
      "Alpha Model - val image which does not include aircraft 46, predicted count: 36.2572\n",
      "Alpha Model - val image which does not include aircraft 47, predicted count: 32.1786\n",
      "Alpha Model - val image which does not include aircraft 48, predicted count: 32.1224\n",
      "Alpha Model - val image which does not include aircraft 49, predicted count: 28.7876\n",
      "Alpha Model - val image which does not include aircraft 50, predicted count: 41.8320\n",
      "Alpha Model - val image which does not include aircraft 51, predicted count: 35.1382\n",
      "Alpha Model - val image which does not include aircraft 52, predicted count: 37.6083\n",
      "Alpha Model - val image which does not include aircraft 53, predicted count: 27.8880\n",
      "Alpha Model - val image which does not include aircraft 54, predicted count: 34.2090\n",
      "Alpha Model - val image which does not include aircraft 55, predicted count: 37.2842\n",
      "Alpha Model - val image which does not include aircraft 56, predicted count: 27.4158\n",
      "Alpha Model - val image which does not include aircraft 57, predicted count: 49.7959\n",
      "Alpha Model - val image which does not include aircraft 58, predicted count: 37.0153\n",
      "Alpha Model - val image which does not include aircraft 59, predicted count: 37.8634\n",
      "Alpha Model - val image which does not include aircraft 60, predicted count: 33.5670\n",
      "Alpha Model - val image which does not include aircraft 61, predicted count: 27.1702\n",
      "Alpha Model - val image which does not include aircraft 62, predicted count: 35.4756\n"
     ]
    }
   ],
   "source": [
    "for model_name, model_config in model_configurations.items():\n",
    "  \n",
    "  # Boneyard with aircraft\n",
    "  aircraft_dataloader = get_dataloader(\n",
    "    boneyard_aircraft_dir,\n",
    "    None,  # No labels for this dataset\n",
    "    transformations=model_config[\"transformations\"],\n",
    "    mode='val',\n",
    "    train_frac=0,\n",
    "    val_frac=1,\n",
    "    seed=RADOM_SEED,\n",
    "    batch_size=1,\n",
    "    shuffle=True,\n",
    "    num_workers=1,\n",
    "    extension=\".png\",\n",
    "  )\n",
    "\n",
    "  model_config[\"model\"].eval()\n",
    "\n",
    "  for i, (val_images, targets) in enumerate(aircraft_dataloader):\n",
    "    predicted_counts = model_config[\"model\"](val_images)\n",
    "    \n",
    "    model_boneyard_predictions[model_name].append(predicted_counts.item())\n",
    "    print(f\"{model_name} - val image which includes aircraft {i+1}, predicted count: {predicted_counts.item():.4f}\")\n",
    "\n",
    "\n",
    "  # Boneyard without aircraft\n",
    "  no_aircraft_dataloader = get_dataloader(\n",
    "    boneyard_no_aircraft_dir,\n",
    "    None,  # No labels for this dataset\n",
    "    transformations=model_config[\"transformations\"],\n",
    "    mode='val',\n",
    "    train_frac=0,\n",
    "    val_frac=1,\n",
    "    seed=RADOM_SEED,\n",
    "    batch_size=1,\n",
    "    shuffle=True,\n",
    "    num_workers=1,\n",
    "    extension=\".png\",\n",
    "  )\n",
    "\n",
    "  model_config[\"model\"].eval()\n",
    "\n",
    "  for i, (val_images, targets) in enumerate(no_aircraft_dataloader):\n",
    "    predicted_counts = model_config[\"model\"](val_images)\n",
    "    \n",
    "    model_boneyard_no_aircraft_predictions[model_name].append(predicted_counts.item())\n",
    "    print(f\"{model_name} - val image which does not include aircraft {i+1}, predicted count: {predicted_counts.item():.4f}\")\n"
   ]
  },
  {
   "cell_type": "code",
   "execution_count": null,
   "id": "5c7487c4",
   "metadata": {},
   "outputs": [],
   "source": []
  }
 ],
 "metadata": {
  "kernelspec": {
   "display_name": ".venv",
   "language": "python",
   "name": "python3"
  },
  "language_info": {
   "codemirror_mode": {
    "name": "ipython",
    "version": 3
   },
   "file_extension": ".py",
   "mimetype": "text/x-python",
   "name": "python",
   "nbconvert_exporter": "python",
   "pygments_lexer": "ipython3",
   "version": "3.10.12"
  }
 },
 "nbformat": 4,
 "nbformat_minor": 5
}
