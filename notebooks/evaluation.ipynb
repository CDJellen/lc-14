{
 "cells": [
  {
   "cell_type": "code",
   "execution_count": 1,
   "id": "15c4434b-d6bf-41f3-a314-14f98d4994af",
   "metadata": {},
   "outputs": [],
   "source": [
    "import os\n",
    "from glob import glob\n",
    "from warnings import simplefilter"
   ]
  },
  {
   "cell_type": "code",
   "execution_count": 2,
   "id": "7e81f836",
   "metadata": {},
   "outputs": [],
   "source": [
    "simplefilter(action='ignore', category=FutureWarning)\n",
    "simplefilter(action='ignore', category=UserWarning)"
   ]
  },
  {
   "cell_type": "markdown",
   "id": "cfbd8f76",
   "metadata": {},
   "source": [
    "#### Configure path parameters and read data files"
   ]
  },
  {
   "cell_type": "markdown",
   "id": "36b52d99",
   "metadata": {},
   "source": [
    "The `RANDOM_SEED`, `NUM_EPOCHS`, `TRAIN_FRAC`, and `VAL_FRAC` are the same for all models during evaluaiton"
   ]
  },
  {
   "cell_type": "code",
   "execution_count": null,
   "id": "1eba28e3",
   "metadata": {},
   "outputs": [],
   "source": [
    "MIDS_USER = os.getenv(\"MIDS_USER\", None)  # this can be replaced, with e.g. `m25...`\n",
    "\n",
    "if MIDS_USER is None:\n",
    "  ROOT_DIR = os.path.abspath(os.path.join(os.getcwd(), *['..'] * 1)) \n",
    "else:\n",
    "  ROOT_DIR = f\"/home/mids/{MIDS_USER}/Capstone\"\n",
    "\n",
    "IMAGES_DIR = os.path.join(ROOT_DIR, \"data\", \"datasets\", \"aircraft\", \"images\")\n",
    "if not os.path.exists(IMAGES_DIR):\n",
    "  ROOT_DIR = os.path.join(ROOT_DIR, \"lc-14\")\n",
    "  IMAGES_DIR = os.path.join(ROOT_DIR, \"data\", \"datasets\", \"aircraft\", \"images\")\n",
    "\n",
    "RADOM_SEED = 2020\n",
    "TRAIN_FRAC = 0.8\n",
    "VAL_FRAC = 0.1\n",
    "\n",
    "NUM_EPOCHS = 20  # This can be adjusted as needed "
   ]
  },
  {
   "cell_type": "code",
   "execution_count": 4,
   "id": "a7fbf458",
   "metadata": {},
   "outputs": [],
   "source": [
    "image_dir = IMAGES_DIR\n",
    "labels_fp = os.path.join(ROOT_DIR, \"data\", \"datasets\", \"aircraft\", \"annotations.csv\")"
   ]
  },
  {
   "cell_type": "markdown",
   "id": "3c29963c",
   "metadata": {},
   "source": [
    "#### Load utility functions"
   ]
  },
  {
   "cell_type": "code",
   "execution_count": 5,
   "id": "c30a4905-25a7-4c57-a20f-b93410c179f0",
   "metadata": {},
   "outputs": [],
   "source": [
    "os.chdir(ROOT_DIR)"
   ]
  },
  {
   "cell_type": "code",
   "execution_count": 6,
   "id": "f88d0b71",
   "metadata": {},
   "outputs": [],
   "source": [
    "import torch\n",
    "import torch.nn as nn\n",
    "import albumentations as A\n",
    "from albumentations.pytorch import ToTensorV2\n",
    "import matplotlib.pyplot as plt\n",
    "\n",
    "from src.utilities.data.aircraft_dataloader import get_dataloader"
   ]
  },
  {
   "cell_type": "markdown",
   "id": "4e0e0e27",
   "metadata": {},
   "source": [
    "#### Define a minimal transformation pipeline"
   ]
  },
  {
   "cell_type": "code",
   "execution_count": 7,
   "id": "68730d06",
   "metadata": {},
   "outputs": [],
   "source": [
    "transformations = A.Compose([\n",
    "  A.Resize(256, 256),  # This transform resizes each image before subsequent processing\n",
    "  A.Normalize(mean=[0.485, 0.456, 0.406], std=[0.229, 0.224, 0.225]),  # This transformation normalizes from standard RGB to grayscale\n",
    "  ToTensorV2(),  # This transform maps our image to a torch.Tensor object\n",
    "])\n"
   ]
  },
  {
   "cell_type": "markdown",
   "id": "a2681cc9",
   "metadata": {},
   "source": [
    "#### Load the baseline models"
   ]
  },
  {
   "cell_type": "code",
   "execution_count": 8,
   "id": "31591d4c",
   "metadata": {},
   "outputs": [],
   "source": [
    "from src.models.baseline.cnn import BaselineCNN\n",
    "from src.models.baseline.mlp import BaselineMLP\n",
    "from src.models.baseline.linear import SingleLinearLayer"
   ]
  },
  {
   "cell_type": "markdown",
   "id": "4c05a8df",
   "metadata": {},
   "source": [
    "#### Define evaluation configuration"
   ]
  },
  {
   "cell_type": "code",
   "execution_count": 9,
   "id": "c579cf9c",
   "metadata": {},
   "outputs": [],
   "source": [
    "default_criterion = nn.MSELoss()\n",
    "\n",
    "baseline_cnn = BaselineCNN()\n",
    "optimizer_cnn = torch.optim.Adam(baseline_cnn.parameters(), lr=0.01)\n",
    "\n",
    "baseline_mlp = BaselineMLP()\n",
    "optimizer_mlp = torch.optim.Adam(baseline_mlp.parameters(), lr=0.01)\n",
    "\n",
    "single_linear_layer = SingleLinearLayer()\n",
    "optimizer_linear_layer = torch.optim.Adam(single_linear_layer.parameters(), lr=0.01)"
   ]
  },
  {
   "cell_type": "code",
   "execution_count": 10,
   "id": "b72a0622",
   "metadata": {},
   "outputs": [],
   "source": [
    "model_configurations = {\n",
    "  \"Baseline CNN\": {\n",
    "    \"model\": baseline_cnn,\n",
    "    \"transformations\": transformations,\n",
    "    \"optimizer\": optimizer_cnn,\n",
    "    \"criterion\": default_criterion,\n",
    "    \"dataloader_kwargs\": {\n",
    "      \"batch_size\": 4,\n",
    "      \"shuffle\": True,\n",
    "    },\n",
    "  },\n",
    "  \"Baseline MLP\": {\n",
    "    \"model\": baseline_mlp,\n",
    "    \"transformations\": transformations,\n",
    "    \"optimizer\": optimizer_mlp,\n",
    "    \"criterion\": default_criterion,\n",
    "    \"dataloader_kwargs\": {\n",
    "      \"batch_size\": 4,\n",
    "      \"shuffle\": True,\n",
    "    },\n",
    "  },\n",
    "}"
   ]
  },
  {
   "cell_type": "markdown",
   "id": "60494f92",
   "metadata": {},
   "source": [
    "In addition to defining models argument-by-argument as above, we can also construct the dictionary dynamically. This is especially useful in cases in which we want to understand the impact of a specific change on our validation performance."
   ]
  },
  {
   "cell_type": "code",
   "execution_count": null,
   "id": "bd60dd2e",
   "metadata": {},
   "outputs": [],
   "source": [
    "# add to the existing `model_configurations`\n",
    "learning_rates_to_test = [0.05, 0.001, 0.0001, 0.00001]\n",
    "for lr_ in learning_rates_to_test:  \n",
    "  baseline_cnn = BaselineCNN()\n",
    "  optimizer_cnn = torch.optim.Adam(baseline_cnn.parameters(), lr=0.01)\n",
    "  model_configurations[f\"Baseline CNN (lr={lr_})\"] = {\n",
    "    \"model\": baseline_cnn.copy(deep=True),\n",
    "    \"transformations\": transformations,\n",
    "    \"optimizer\": optimizer_cnns,\n",
    "    \"criterion\": default_criterion,\n",
    "    \"dataloader_kwargs\": {\n",
    "      \"batch_size\": 4,\n",
    "      \"shuffle\": True,\n",
    "    },\n",
    "  }"
   ]
  },
  {
   "cell_type": "markdown",
   "id": "c05bab02",
   "metadata": {},
   "source": [
    "### Train the models"
   ]
  },
  {
   "cell_type": "code",
   "execution_count": 11,
   "id": "87a8871f",
   "metadata": {},
   "outputs": [
    {
     "name": "stdout",
     "output_type": "stream",
     "text": [
      "Model Baseline CNN epoch [1/20], Loss: 4356.0000\n",
      "Model Baseline CNN epoch [2/20], Loss: 41.6818\n",
      "Model Baseline CNN epoch [3/20], Loss: 187.7022\n",
      "Model Baseline CNN epoch [4/20], Loss: 937.6151\n",
      "Model Baseline CNN epoch [5/20], Loss: 266.8334\n",
      "Model Baseline CNN epoch [6/20], Loss: 61.9824\n",
      "Model Baseline CNN epoch [7/20], Loss: 117.4381\n",
      "Model Baseline CNN epoch [8/20], Loss: 6.5623\n",
      "Model Baseline CNN epoch [9/20], Loss: 10.4716\n",
      "Model Baseline CNN epoch [10/20], Loss: 96.1152\n",
      "Model Baseline CNN epoch [11/20], Loss: 8.9514\n",
      "Model Baseline CNN epoch [12/20], Loss: 9.0491\n",
      "Model Baseline CNN epoch [13/20], Loss: 4.1525\n",
      "Model Baseline CNN epoch [14/20], Loss: 0.5735\n",
      "Model Baseline CNN epoch [15/20], Loss: 0.7779\n",
      "Model Baseline CNN epoch [16/20], Loss: 1.7460\n",
      "Model Baseline CNN epoch [17/20], Loss: 1.8805\n",
      "Model Baseline CNN epoch [18/20], Loss: 1.9219\n",
      "Model Baseline CNN epoch [19/20], Loss: 0.6020\n",
      "Model Baseline CNN epoch [20/20], Loss: 1.4162\n",
      "Model Baseline MLP epoch [1/20], Loss: 977.0000\n",
      "Model Baseline MLP epoch [2/20], Loss: 1033.0000\n",
      "Model Baseline MLP epoch [3/20], Loss: 842.0000\n",
      "Model Baseline MLP epoch [4/20], Loss: 594.5000\n",
      "Model Baseline MLP epoch [5/20], Loss: 524.5000\n",
      "Model Baseline MLP epoch [6/20], Loss: 612.5000\n",
      "Model Baseline MLP epoch [7/20], Loss: 602.5000\n",
      "Model Baseline MLP epoch [8/20], Loss: 2560.0000\n",
      "Model Baseline MLP epoch [9/20], Loss: 386.5000\n",
      "Model Baseline MLP epoch [10/20], Loss: 2790.5000\n",
      "Model Baseline MLP epoch [11/20], Loss: 712.0000\n",
      "Model Baseline MLP epoch [12/20], Loss: 1338.5000\n",
      "Model Baseline MLP epoch [13/20], Loss: 1658.0000\n",
      "Model Baseline MLP epoch [14/20], Loss: 625.0000\n",
      "Model Baseline MLP epoch [15/20], Loss: 378.5000\n",
      "Model Baseline MLP epoch [16/20], Loss: 842.5000\n",
      "Model Baseline MLP epoch [17/20], Loss: 3854.5000\n",
      "Model Baseline MLP epoch [18/20], Loss: 820.0000\n",
      "Model Baseline MLP epoch [19/20], Loss: 377.0000\n",
      "Model Baseline MLP epoch [20/20], Loss: 2790.5000\n"
     ]
    }
   ],
   "source": [
    "for model_name, model_config in model_configurations.items():\n",
    "\n",
    "  dataloader = get_dataloader(\n",
    "    image_dir=image_dir,\n",
    "    labels_fp=labels_fp,\n",
    "    transformations=model_config[\"transformations\"],\n",
    "    mode='train',\n",
    "    train_frac=TRAIN_FRAC,\n",
    "    val_frac=VAL_FRAC,\n",
    "    seed=RADOM_SEED,\n",
    "    batch_size=model_config[\"dataloader_kwargs\"][\"batch_size\"],\n",
    "    shuffle=model_config[\"dataloader_kwargs\"][\"shuffle\"],\n",
    "    num_workers=1,\n",
    "  )\n",
    "\n",
    "  # Training loop\n",
    "  for epoch in range(NUM_EPOCHS):\n",
    "    for i, (images, targets) in enumerate(dataloader):\n",
    "      # Forward pass\n",
    "      outputs = model_config[\"model\"](images)\n",
    "      loss = model_config[\"criterion\"](outputs.squeeze(), targets)  # Ensure outputs are squeezed to match counts shape\n",
    "\n",
    "      # Backward pass and optimization\n",
    "      model_config[\"optimizer\"].zero_grad()\n",
    "      loss.backward()\n",
    "      model_config[\"optimizer\"].step()\n",
    "\n",
    "    print(f\"Model {model_name} epoch [{epoch+1}/{NUM_EPOCHS}], Loss: {loss.item():.4f}\")\n"
   ]
  },
  {
   "cell_type": "markdown",
   "id": "5f4f5f62",
   "metadata": {},
   "source": [
    "### Evaluate the models"
   ]
  },
  {
   "cell_type": "code",
   "execution_count": 12,
   "id": "d8d2e0ad",
   "metadata": {},
   "outputs": [],
   "source": [
    "model_losses = {\n",
    "  model_name: [] for model_name in model_configurations.keys()\n",
    "}\n",
    "model_predictions = {\n",
    "  model_name: [] for model_name in model_configurations.keys()\n",
    "}\n"
   ]
  },
  {
   "cell_type": "code",
   "execution_count": 13,
   "id": "09256240",
   "metadata": {},
   "outputs": [
    {
     "name": "stdout",
     "output_type": "stream",
     "text": [
      "Baseline CNN - val image 1, predicted count: 23.2693, true count: 31.0000\n",
      "Baseline CNN - val image 2, predicted count: 24.3161, true count: 24.0000\n",
      "Baseline CNN - val image 3, predicted count: 34.4717, true count: 19.0000\n",
      "Baseline CNN - val image 4, predicted count: 60.6688, true count: 49.0000\n",
      "Baseline CNN - val image 5, predicted count: 22.9901, true count: 27.0000\n",
      "Baseline CNN - val image 6, predicted count: 6.2221, true count: 15.0000\n",
      "Baseline CNN - val image 7, predicted count: 23.2017, true count: 30.0000\n",
      "Baseline CNN - val image 8, predicted count: 69.5394, true count: 52.0000\n",
      "Baseline CNN - val image 9, predicted count: 21.7396, true count: 39.0000\n",
      "Baseline CNN - val image 10, predicted count: 11.8935, true count: 26.0000\n",
      "Baseline MLP - val image 1, predicted count: 0.0000, true count: 31.0000\n",
      "Baseline MLP - val image 2, predicted count: 0.0000, true count: 24.0000\n",
      "Baseline MLP - val image 3, predicted count: 0.0000, true count: 19.0000\n",
      "Baseline MLP - val image 4, predicted count: 0.0000, true count: 49.0000\n",
      "Baseline MLP - val image 5, predicted count: 0.0000, true count: 27.0000\n",
      "Baseline MLP - val image 6, predicted count: 0.0000, true count: 15.0000\n",
      "Baseline MLP - val image 7, predicted count: 0.0000, true count: 30.0000\n",
      "Baseline MLP - val image 8, predicted count: 0.0000, true count: 52.0000\n",
      "Baseline MLP - val image 9, predicted count: 0.0000, true count: 39.0000\n",
      "Baseline MLP - val image 10, predicted count: 0.0000, true count: 26.0000\n"
     ]
    }
   ],
   "source": [
    "for model_name, model_config in model_configurations.items():\n",
    "  val_dataloader = get_dataloader(\n",
    "    image_dir,\n",
    "    labels_fp,\n",
    "    transformations=transformations,\n",
    "    mode='val',\n",
    "    train_frac=TRAIN_FRAC,\n",
    "    val_frac=VAL_FRAC,\n",
    "    seed=RADOM_SEED,\n",
    "    batch_size=1,\n",
    "    shuffle=False,\n",
    "    num_workers=1,\n",
    "  )\n",
    "  true_labels = []\n",
    "\n",
    "  for i, (val_images, targets) in enumerate(val_dataloader):\n",
    "    predicted_counts = model_config[\"model\"](val_images)\n",
    "    # We validate based on the mean absolute error\n",
    "    model_losses[model_name].append(torch.abs(predicted_counts - targets).item())\n",
    "    model_predictions[model_name].append(predicted_counts.item())\n",
    "    true_labels.append(targets.item())\n",
    "    print(f\"{model_name} - val image {i+1}, predicted count: {predicted_counts.item():.4f}, true count: {targets.item():.4f}\")\n"
   ]
  },
  {
   "cell_type": "markdown",
   "id": "ca943062",
   "metadata": {},
   "source": [
    "### Compare the models"
   ]
  },
  {
   "cell_type": "code",
   "execution_count": 14,
   "id": "c2e798cf",
   "metadata": {},
   "outputs": [
    {
     "name": "stdout",
     "output_type": "stream",
     "text": [
      "Model Baseline CNN MAE: 10.3680\n",
      "Model Baseline MLP MAE: 31.2000\n"
     ]
    }
   ],
   "source": [
    "for model_name, model_losses in model_losses.items():\n",
    "  print(f\"Model {model_name} MAE: {sum(model_losses) / len(model_losses):.4f}\")\n"
   ]
  },
  {
   "cell_type": "code",
   "execution_count": 15,
   "id": "8169f7d0",
   "metadata": {},
   "outputs": [
    {
     "data": {
      "image/png": "[encoded data removed]",
      "text/plain": [
       "<Figure size 1000x500 with 1 Axes>"
      ]
     },
     "metadata": {},
     "output_type": "display_data"
    }
   ],
   "source": [
    "plt.figure(figsize=(10, 5))\n",
    "plt.plot(true_labels, label=\"True counts\")\n",
    "for model_name, model_predictions in model_predictions.items():\n",
    "  plt.plot(model_predictions, label=f\"{model_name} predictions\")\n",
    "plt.xlabel(\"Image index\")\n",
    "plt.ylabel(\"Count\")\n",
    "plt.legend()\n",
    "plt.show()\n"
   ]
  },
  {
   "cell_type": "code",
   "execution_count": null,
   "id": "56dc65b6",
   "metadata": {},
   "outputs": [],
   "source": []
  }
 ],
 "metadata": {
  "kernelspec": {
   "display_name": ".venv",
   "language": "python",
   "name": "python3"
  },
  "language_info": {
   "codemirror_mode": {
    "name": "ipython",
    "version": 3
   },
   "file_extension": ".py",
   "mimetype": "text/x-python",
   "name": "python",
   "nbconvert_exporter": "python",
   "pygments_lexer": "ipython3",
   "version": "3.10.12"
  }
 },
 "nbformat": 4,
 "nbformat_minor": 5
}
