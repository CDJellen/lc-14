{
 "cells": [
  {
   "cell_type": "code",
   "execution_count": 1,
   "id": "15c4434b-d6bf-41f3-a314-14f98d4994af",
   "metadata": {},
   "outputs": [],
   "source": [
    "import os\n",
    "from glob import glob\n",
    "from warnings import simplefilter"
   ]
  },
  {
   "cell_type": "code",
   "execution_count": 2,
   "id": "7e81f836",
   "metadata": {},
   "outputs": [],
   "source": [
    "simplefilter(action='ignore', category=FutureWarning)\n",
    "simplefilter(action='ignore', category=UserWarning)"
   ]
  },
  {
   "cell_type": "markdown",
   "id": "cfbd8f76",
   "metadata": {},
   "source": [
    "#### Configure path parameters and read data files"
   ]
  },
  {
   "cell_type": "code",
   "execution_count": null,
   "id": "1eba28e3",
   "metadata": {},
   "outputs": [],
   "source": [
    "MIDS_USER = os.getenv(\"MIDS_USER\", None)  # this can be replaced, with e.g. `m25...`\n",
    "\n",
    "if MIDS_USER is None:\n",
    "  ROOT_DIR = os.path.abspath(os.path.join(os.getcwd(), *['..'] * 1)) \n",
    "else:\n",
    "  ROOT_DIR = f\"/home/mids/{MIDS_USER}/Capstone\"\n",
    "\n",
    "IMAGES_DIR = os.path.join(ROOT_DIR, \"data\", \"datasets\", \"aircraft\", \"images\")\n",
    "if not os.path.exists(IMAGES_DIR):\n",
    "  ROOT_DIR = os.path.join(ROOT_DIR, \"lc-14\")\n",
    "  IMAGES_DIR = os.path.join(ROOT_DIR, \"data\", \"datasets\", \"aircraft\", \"images\")\n",
    "\n",
    "RADOM_SEED = 2020\n",
    "TRAIN_FRAC = 0.8\n",
    "VAL_FRAC = 0.1\n",
    "\n",
    "NUM_EPOCHS = 20  # This can be adjusted as needed "
   ]
  },
  {
   "cell_type": "code",
   "execution_count": 4,
   "id": "a7fbf458",
   "metadata": {},
   "outputs": [],
   "source": [
    "image_dir = IMAGES_DIR\n",
    "labels_fp = os.path.join(ROOT_DIR, \"data\", \"datasets\", \"aircraft\", \"annotations.csv\")"
   ]
  },
  {
   "cell_type": "markdown",
   "id": "3c29963c",
   "metadata": {},
   "source": [
    "#### Load utility functions"
   ]
  },
  {
   "cell_type": "code",
   "execution_count": 5,
   "id": "c30a4905-25a7-4c57-a20f-b93410c179f0",
   "metadata": {},
   "outputs": [],
   "source": [
    "os.chdir(ROOT_DIR)"
   ]
  },
  {
   "cell_type": "code",
   "execution_count": 6,
   "id": "f88d0b71",
   "metadata": {},
   "outputs": [],
   "source": [
    "import torch\n",
    "import torch.nn as nn\n",
    "import albumentations as A\n",
    "from albumentations.pytorch import ToTensorV2\n",
    "\n",
    "from src.utilities.data.aircraft_dataloader import get_dataloader"
   ]
  },
  {
   "cell_type": "markdown",
   "id": "4e0e0e27",
   "metadata": {},
   "source": [
    "#### Define a minimal transformation pipeline"
   ]
  },
  {
   "cell_type": "code",
   "execution_count": 7,
   "id": "68730d06",
   "metadata": {},
   "outputs": [],
   "source": [
    "transformations = A.Compose([\n",
    "  A.Resize(256, 256),  # This transform resizes each image before subsequent processing\n",
    "  A.Normalize(mean=[0.485, 0.456, 0.406], std=[0.229, 0.224, 0.225]),  # This transformation normalizes from standard RGB to grayscale\n",
    "  ToTensorV2(),  # This transform maps our image to a torch.Tensor object\n",
    "])\n"
   ]
  },
  {
   "cell_type": "markdown",
   "id": "c05bab02",
   "metadata": {},
   "source": [
    "#### Building a `torch.Dataloader`."
   ]
  },
  {
   "cell_type": "code",
   "execution_count": 8,
   "id": "87a8871f",
   "metadata": {},
   "outputs": [],
   "source": [
    "# Create the DataLoader\n",
    "dataloader = get_dataloader(\n",
    "  image_dir=image_dir,\n",
    "  labels_fp=labels_fp,\n",
    "  transformations=transformations,\n",
    "  mode='train',\n",
    "  train_frac=TRAIN_FRAC,\n",
    "  val_frac=VAL_FRAC,\n",
    "  seed=RADOM_SEED,\n",
    "  batch_size=1,\n",
    "  shuffle=True,\n",
    "  num_workers=1,\n",
    ")"
   ]
  },
  {
   "cell_type": "markdown",
   "id": "9d56196a",
   "metadata": {},
   "source": [
    "#### Building a baseline MLP using `torch.nn.Module`"
   ]
  },
  {
   "cell_type": "code",
   "execution_count": null,
   "id": "f66f06fd",
   "metadata": {},
   "outputs": [],
   "source": [
    "class BaselineMLP(nn.Module):\n",
    "  def __init__(self):\n",
    "    super(BaselineMLP, self).__init__()\n",
    "    self.flatten = nn.Flatten()  # This layer flattens the input to a 1D tensor\n",
    "    self.fc1 = nn.Linear(256 * 256 * 3, 128)  # 256 * 256 * 3 is the number of input features\n",
    "    self.fc2 = nn.Linear(128, 64)  # 128 is the number of output features from the previous layer\n",
    "    self.fc3 = nn.Linear(64, 1)  # 64 is the number of output features from the previous layer\n",
    "\n",
    "  def forward(self, x):\n",
    "    x = self.flatten(x)\n",
    "    x = torch.relu(self.fc1(x))  # include a nonlinearity between each fully connected layer\n",
    "    x = torch.relu(self.fc2(x))\n",
    "    x = self.fc3(x)\n",
    "    return x\n"
   ]
  },
  {
   "cell_type": "markdown",
   "id": "57c85278",
   "metadata": {},
   "source": [
    "#### Training the model"
   ]
  },
  {
   "cell_type": "code",
   "execution_count": null,
   "id": "087c291b",
   "metadata": {},
   "outputs": [],
   "source": [
    "# Basic hyperparameters\n",
    "learning_rate = 1e-3"
   ]
  },
  {
   "cell_type": "code",
   "execution_count": null,
   "id": "947ac355",
   "metadata": {},
   "outputs": [
    {
     "name": "stdout",
     "output_type": "stream",
     "text": [
      "Epoch [1/10], Loss: 2428.9146\n",
      "Epoch [2/10], Loss: 0.0791\n",
      "Epoch [3/10], Loss: 308.8823\n",
      "Epoch [4/10], Loss: 262.7151\n",
      "Epoch [5/10], Loss: 12.2399\n",
      "Epoch [6/10], Loss: 3.0773\n",
      "Epoch [7/10], Loss: 39.0467\n",
      "Epoch [8/10], Loss: 12.6623\n",
      "Epoch [9/10], Loss: 64.6397\n",
      "Epoch [10/10], Loss: 3.1391\n"
     ]
    }
   ],
   "source": [
    "baseline_mlp_model = BaselineMLP()\n",
    "criterion = nn.MSELoss()  # Mean Squared Error for regression\n",
    "optimizer = torch.optim.Adam(baseline_mlp_model.parameters(), lr=learning_rate)\n",
    "\n",
    "# Training loop\n",
    "for epoch in range(NUM_EPOCHS):\n",
    "  for i, (images, targets) in enumerate(dataloader):\n",
    "    if i == len(dataloader) - 1: continue  # save the last batch for demonstration\n",
    "    # Forward pass\n",
    "    outputs = baseline_mlp_model(images)\n",
    "    loss = criterion(outputs.squeeze(), targets)  # Ensure outputs are squeezed to match counts shape\n",
    "\n",
    "    # Backward pass and optimization\n",
    "    optimizer.zero_grad()\n",
    "    loss.backward()\n",
    "    optimizer.step()\n",
    "\n",
    "  print(f\"Epoch [{epoch+1}/{NUM_EPOCHS}], Loss: {loss.item():.4f}\")\n"
   ]
  },
  {
   "cell_type": "markdown",
   "id": "50e1e464",
   "metadata": {},
   "source": [
    "Check the model's prediction on the validation set for a `torch.Dataset` with the same `train_frac`, `val_frac`, and `seed`."
   ]
  },
  {
   "cell_type": "code",
   "execution_count": 12,
   "id": "d595a83e",
   "metadata": {},
   "outputs": [],
   "source": [
    "# Create the DataLoader\n",
    "val_dataloader = get_dataloader(\n",
    "  image_dir,\n",
    "  labels_fp,\n",
    "  transformations=transformations,\n",
    "  mode='val',\n",
    "  train_frac=TRAIN_FRAC,\n",
    "  val_frac=VAL_FRAC,\n",
    "  seed=RADOM_SEED,\n",
    "  batch_size=1,\n",
    "  shuffle=False,\n",
    "  num_workers=1,\n",
    ")"
   ]
  },
  {
   "cell_type": "code",
   "execution_count": 13,
   "id": "09256240",
   "metadata": {},
   "outputs": [
    {
     "name": "stdout",
     "output_type": "stream",
     "text": [
      "val image 1, predicted count: 14.8642, true count: 31.0000\n",
      "val image 2, predicted count: 21.4533, true count: 24.0000\n",
      "val image 3, predicted count: 14.4551, true count: 19.0000\n",
      "val image 4, predicted count: 39.5331, true count: 49.0000\n",
      "val image 5, predicted count: 28.1392, true count: 27.0000\n",
      "val image 6, predicted count: 4.8535, true count: 15.0000\n",
      "val image 7, predicted count: 18.2386, true count: 30.0000\n",
      "val image 8, predicted count: 46.2416, true count: 52.0000\n",
      "val image 9, predicted count: 20.0325, true count: 39.0000\n",
      "val image 10, predicted count: 1.6681, true count: 26.0000\n",
      "Mean absolute error: 10.4799\n"
     ]
    }
   ],
   "source": [
    "losses = []\n",
    "\n",
    "for i, (val_images, targets) in enumerate(val_dataloader):\n",
    "  predicted_counts = baseline_mlp_model(val_images)\n",
    "  # We validate based on the mean absolute error\n",
    "  losses.append(torch.abs(predicted_counts - targets).item())\n",
    "  print(f\"val image {i+1}, predicted count: {predicted_counts.item():.4f}, true count: {targets.item():.4f}\")\n",
    "\n",
    "mean_loss = sum(losses) / len(losses)\n",
    "print(f\"Mean absolute error: {mean_loss:.4f}\")"
   ]
  },
  {
   "cell_type": "code",
   "execution_count": null,
   "id": "c2e798cf",
   "metadata": {},
   "outputs": [],
   "source": []
  }
 ],
 "metadata": {
  "kernelspec": {
   "display_name": ".venv",
   "language": "python",
   "name": "python3"
  },
  "language_info": {
   "codemirror_mode": {
    "name": "ipython",
    "version": 3
   },
   "file_extension": ".py",
   "mimetype": "text/x-python",
   "name": "python",
   "nbconvert_exporter": "python",
   "pygments_lexer": "ipython3",
   "version": "3.10.12"
  }
 },
 "nbformat": 4,
 "nbformat_minor": 5
}
